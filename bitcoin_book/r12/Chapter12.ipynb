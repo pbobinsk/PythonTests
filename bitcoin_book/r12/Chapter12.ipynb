{
 "cells": [
  {
   "cell_type": "code",
   "execution_count": null,
   "metadata": {},
   "outputs": [],
   "source": [
   "############## URUCHOM TO NAJPIERW! ###################\n",
    "\n",
    "# zaimportuj wszystko i zdefiniuj funkcję wykonującą testy\n",
    "from importlib import reload\n",
    "from helper import run\n",
    "import bloomfilter\n",
    "import block\n",
    "import ecc\n",
    "import helper\n",
    "import merkleblock\n",
    "import network\n",
    "import script\n",
    "import tx"
   ]
  },
  {
   "cell_type": "code",
   "execution_count": null,
   "metadata": {},
   "outputs": [],
   "source": [
    "from helper import hash256\n",
    "bit_field_size = 10\n",
    "bit_field = [0] * bit_field_size\n",
    "h = hash256(b'hello world')\n",
    "bit = int.from_bytes(h, 'big') % bit_field_size\n",
    "bit_field[bit] = 1\n",
    "print(bit_field)"
   ]
  },
  {
   "cell_type": "code",
   "execution_count": null,
   "metadata": {},
   "outputs": [],
   "source": [
    "from helper import hash256\n",
    "bit_field_size = 10\n",
    "bit_field = [0] * bit_field_size\n",
    "for item in (b'hello world', b'goodbye'):\n",
    "    h = hash256(item)\n",
    "    bit = int.from_bytes(h, 'big') % bit_field_size\n",
    "    bit_field[bit] = 1\n",
    "print(bit_field)"
   ]
  },
  {
   "cell_type": "markdown",
   "metadata": {},
   "source": [
    "### Ćwiczenie 1\n",
    "\n",
    "Oblicz wynik filtra Blooma dla sekwencji `hello world` i `goodbye`, używając funkcji skrótu hash160 dla pola bitowego o długości 10.\n"
   ]
  },
  {
   "cell_type": "code",
   "execution_count": null,
   "metadata": {},
   "outputs": [],
   "source": [
    "# Ćwiczenie 1\n",
    "\n",
    "from helper import hash160\n",
    "\n",
    "bit_field_size = 10\n",
    "bit_field = [0] * bit_field_size\n",
    "items = (b'hello world', b'goodbye')\n",
    "# wykonaj w pętli dla każdego elementu\n",
    "    # oblicz hash160 elementu\n",
    "    # zinterpretuj skrót, jako liczbę całkowitą big endian i podziel modulo przez nią bit_field_size\n",
    "    # ustaw ten bit w polu bit_field\n",
    "# wydrukuj bit_field"
   ]
  },
  {
   "cell_type": "code",
   "execution_count": null,
   "metadata": {},
   "outputs": [],
   "source": [
    "from helper import hash256, hash160\n",
    "bit_field_size = 10\n",
    "bit_field = [0] * bit_field_size\n",
    "for item in (b'hello world', b'goodbye'):\n",
    "    for hash_function in (hash256, hash160):\n",
    "        h = hash_function(item)\n",
    "        bit = int.from_bytes(h, 'big') % bit_field_size\n",
    "        bit_field[bit] = 1\n",
    "print(bit_field)"
   ]
  },
  {
   "cell_type": "code",
   "execution_count": null,
   "metadata": {},
   "outputs": [],
   "source": [
    "from helper import murmur3\n",
    "from bloomfilter import BIP37_CONSTANT\n",
    "field_size = 2\n",
    "num_functions = 2\n",
    "tweak = 42\n",
    "bit_field_size = field_size * 8\n",
    "bit_field = [0] * bit_field_size\n",
    "for phrase in (b'hello world', b'goodbye'):\n",
    "    for i in range(num_functions):\n",
    "        seed = i * BIP37_CONSTANT + tweak\n",
    "        h = murmur3(phrase, seed=seed)\n",
    "        bit = h % bit_field_size\n",
    "        bit_field[bit] = 1\n",
    "print(bit_field)"
   ]
  },
  {
   "cell_type": "markdown",
   "metadata": {},
   "source": [
    "### Ćwiczenie 2\n",
    "\n",
    "Dla filtra Blooma o następujących parametrach: `size=10`, `function_count=5`, `tweak=99` określ, które bity zostaną ustawione po dodaniu tych elementów. (Użyj funkcji `bit_field_to_bytes` do konwersji na bajty).\n",
    "\n",
    "* `b'Hello World'`\n",
    "* `b'Goodbye!'`"
   ]
  },
  {
   "cell_type": "code",
   "execution_count": null,
   "metadata": {},
   "outputs": [],
   "source": [
    "# Ćwiczenie 2\n",
    "\n",
    "from bloomfilter import BloomFilter, BIP37_CONSTANT\n",
    "from helper import bit_field_to_bytes, murmur3\n",
    "\n",
    "field_size = 10\n",
    "function_count = 5\n",
    "tweak = 99\n",
    "items = (b'Hello World',  b'Goodbye!')\n",
    "# oblicz rozmiar pola bitowego\n",
    "# utwórz puste pole bitowe\n",
    "# wykonaj w pętli dla każdego elementu\n",
    "    # wykonaj w pętli dla wszystkich funkcji\n",
    "        # oblicz ziarno\n",
    "        # oblicz skrót murmur3 elementu używając ziarna\n",
    "        # podziel modulo przez rozmiar pola bitowego\n",
    "        # ustaw bit\n",
    "# skonwertuj pole bitowe na bajty\n",
    "# wydrukuj bajty szesnastkowo"
   ]
  },
  {
   "cell_type": "markdown",
   "metadata": {},
   "source": [
    "### Ćwiczenie 3\n",
    "\n",
    "Napisz metodę `add` dla klasy `BloomFilter`.\n",
    "\n",
    "#### Wykonaj [ten test](/edit/r12/bloomfilter.py): `bloomfilter.py:BloomFilterTest:test_add`"
   ]
  },
  {
   "cell_type": "code",
   "execution_count": null,
   "metadata": {},
   "outputs": [],
   "source": [
    "# Ćwiczenie 3\n",
    "\n",
    "reload(bloomfilter)\n",
    "run(bloomfilter.BloomFilterTest(\"test_add\"))"
   ]
  },
  {
   "cell_type": "markdown",
   "metadata": {},
   "source": [
    "### Ćwiczenie 4\n",
    "\n",
    "Napisz metodę `filterload` dla klasy `BloomFilter`.\n",
    "\n",
    "#### Wykonaj [ten test](/edit/r12/bloomfilter.py): `bloomfilter.py:BloomFilterTest:test_filterload`"
   ]
  },
  {
   "cell_type": "code",
   "execution_count": null,
   "metadata": {},
   "outputs": [],
   "source": [
    "# Ćwiczenie 4\n",
    "\n",
    "reload(bloomfilter)\n",
    "run(bloomfilter.BloomFilterTest(\"test_filterload\"))"
   ]
  },
  {
   "cell_type": "markdown",
   "metadata": {},
   "source": [
    "### Ćwiczenie 5\n",
    "\n",
    "Napisz metodę `serialize` dla klasy `GetDataMessage`.\n",
    "\n",
    "#### Wykonaj [ten test](/edit/r12/network.py): `network.py:GetDataMessageTest:test_serialize`"
   ]
  },
  {
   "cell_type": "code",
   "execution_count": null,
   "metadata": {},
   "outputs": [],
   "source": [
    "# Ćwiczenie 5\n",
    "\n",
    "reload(network)\n",
    "run(network.GetDataMessageTest(\"test_serialize\"))"
   ]
  },
  {
   "cell_type": "code",
   "execution_count": null,
   "metadata": {},
   "outputs": [],
   "source": [
    "from bloomfilter import BloomFilter\n",
    "from helper import decode_base58\n",
    "from merkleblock import MerkleBlock\n",
    "from network import FILTERED_BLOCK_DATA_TYPE, GetHeadersMessage, GetDataMessage, HeadersMessage, SimpleNode\n",
    "from tx import Tx\n",
    "last_block_hex = '00000000000538d5c2246336644f9a4956551afb44ba47278759ec55ea912e19'\n",
    "address = 'mwJn1YPMq7y5F8J3LkC5Hxg9PHyZ5K4cFv'\n",
    "h160 = decode_base58(address)\n",
    "node = SimpleNode('testnet.programmingbitcoin.com', testnet=True, logging=False)\n",
    "bf = BloomFilter(size=30, function_count=5, tweak=90210)\n",
    "bf.add(h160)\n",
    "node.handshake()\n",
    "node.send(bf.filterload())\n",
    "start_block = bytes.fromhex(last_block_hex)\n",
    "getheaders = GetHeadersMessage(start_block=start_block)\n",
    "node.send(getheaders)\n",
    "headers = node.wait_for(HeadersMessage)\n",
    "getdata = GetDataMessage()\n",
    "for b in headers.blocks:\n",
    "    if not b.check_pow():\n",
    "        raise RuntimeError('proof of work is invalid')\n",
    "    getdata.add_data(FILTERED_BLOCK_DATA_TYPE, b.hash())\n",
    "node.send(getdata)\n",
    "found = False\n",
    "while not found:\n",
    "    message = node.wait_for(MerkleBlock, Tx)\n",
    "    if message.command == b'merkleblock':\n",
    "        if not message.is_valid():\n",
    "            raise RuntimeError('invalid merkle proof')\n",
    "    else:\n",
    "        for i, tx_out in enumerate(message.tx_outs):\n",
    "            if tx_out.script_pubkey.address(testnet=True) == address:\n",
    "                print('found: {}:{}'.format(message.id(), i))\n",
    "                found = True\n",
    "                break"
   ]
  },
  {
   "cell_type": "markdown",
   "metadata": {},
   "source": [
    "### Ćwiczenie 6\n",
    "\n",
    "Pobierz identyfikator bieżącego bloku w testnecie prześlij sobie kilka tBTC, znajdź UTXO odpowiadający tym tBTC bez użycia eksploratora bloków, utwórz transakcję, wykorzystując ten UTXO jako wejście, i wyślij komunikat `tx` w sieci testnet."
   ]
  },
  {
   "cell_type": "code",
   "execution_count": null,
   "metadata": {},
   "outputs": [],
   "source": [
    "# Ćwiczenie 6\n",
    "\n",
    "import time\n",
    "\n",
    "from block import Block\n",
    "from bloomfilter import BloomFilter\n",
    "from ecc import PrivateKey\n",
    "from helper import hash256, little_endian_to_int, encode_varint, read_varint, decode_base58, SIGHASH_ALL\n",
    "from merkleblock import MerkleBlock\n",
    "from network import (\n",
    "    GetDataMessage,\n",
    "    GetHeadersMessage,\n",
    "    HeadersMessage,\n",
    "    NetworkEnvelope,\n",
    "    SimpleNode,\n",
    "    TX_DATA_TYPE,\n",
    "    FILTERED_BLOCK_DATA_TYPE,\n",
    ")\n",
    "from script import p2pkh_script, Script\n",
    "from tx import Tx, TxIn, TxOut\n",
    "\n",
    "last_block_hex = ''  # FILL THIS IN\n",
    "\n",
    "secret = little_endian_to_int(hash256(b''))  # FILL THIS IN\n",
    "private_key = PrivateKey(secret=secret)\n",
    "addr = private_key.point.address(testnet=True)\n",
    "h160 = decode_base58(addr)\n",
    "\n",
    "target_address = 'mwJn1YPMq7y5F8J3LkC5Hxg9PHyZ5K4cFv'\n",
    "target_h160 = decode_base58(target_address)\n",
    "target_script = p2pkh_script(target_h160)\n",
    "fee = 5000  # opłata w satoshi\n",
    "\n",
    "\n",
    "# połącz się z testnet.programmingbitcoin.com w trybie testnetu\n",
    "# Utwórz filtr Blooma o rozmiarze 30, z 5 funkcjami. Dodaj tweak.\n",
    "# dodaj h160 do filtra Blooma\n",
    "# zakończ uzgadnianie\n",
    "# załaduj filtr Blooma za pomocą komunikatu filterload\n",
    "\n",
    "# ustaw blok startowy na last_block otrzymaną powyżej\n",
    "# wyślij komunikat getheaders z blokiem początkowym\n",
    "\n",
    "# zaczekaj na komunikat headers\n",
    "# zapisz ostatni blok, jako None\n",
    "# zainicjalizuj GetDataMessage\n",
    "# przejdź pętlą przez bloki w nagłówkach\n",
    "    # sprawdź czy dowód pracy w bloku jest prawidłowy\n",
    "    # sprawdź czy prev_block tego bloku jest ostatnim blokiem\n",
    "    # dodaj nowy element do komunikatu getdata\n",
    "    # powinno być FILTERED_BLOCK_DATA_TYPE i skrót bloku\n",
    "    # ustaw ostatni blok na bieżący skrót\n",
    "# wyślij komunikat getdata\n",
    "\n",
    "# zainicjuj prev_tx i prev_index na None\n",
    "# wykonuj w pętli gdy prev_tx ma wartość None\n",
    "    # czekaj na komunikat merkleblock lub tx\n",
    "    # jeśli mamy komunikat merkleblock\n",
    "        # sprawdź, czy MerkleBlock jest poprawny\n",
    "    # w przeciwnym wypadku mamy komunikat tx\n",
    "        # ustaw wartość True dla testnet tx\n",
    "        # wykonaj w pętli dla wszystkich wyjść tx\n",
    "            # jeśli wyjście ma ten sam adres, co nasz adres, wyjście zostało znalezione\n",
    "                # znaleźliśmy nasze utxo, przypisz wartości do prev_tx, prev_index i tx\n",
    "# utwórz TxIn\n",
    "# oblicz kwotę wyjścia (poprzednia kwota minus opłata)\n",
    "# utwórz nowe wyjście TxOut dla skryptu docelowego z kwotą wyjścia\n",
    "# utwórz nową transakcję z jednym wejściem i z jednym wyjściem\n",
    "# podpisz jedyne wejście transakcji\n",
    "# serializuj i zamień na hex, aby zobaczyć, jak to wygląda\n",
    "# wyślij tę podpisaną transakcję do sieci\n",
    "# poczekaj sekundę, aż transakcja dotrze, używając time.sleep(1)\n",
    "# potem zapytaj drugi węzeł o tę transakcję\n",
    "# utwórz GetDataMessage\n",
    "# zapytaj o naszą transakcję, dodając ją do komunikatu\n",
    "# wyślij komunikat\n",
    "# teraz poczekaj na odpowiedź Tx\n",
    "# jeśli otrzymana tx ma ten sam identyfikator, co nasza tx, skończyliśmy!\n"
   ]
  }
 ],
 "metadata": {},
 "nbformat": 4,
 "nbformat_minor": 2
}
