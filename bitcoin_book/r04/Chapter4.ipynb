{
	"cells": [{
			"cell_type": "code",
			"execution_count": null,
			"metadata": {},
			"outputs": [],
			"source": [
				"############## URUCHOM TO NAJPIERW! ###################\n",
				"\n",
				"# zaimportuj wszystko i zdefiniuj funkcję wykonującą testy\n",
				"from importlib import reload\n",
				"from helper import run\n",
				"import ecc\n",
				"import helper"
			]
		},
		{
			"cell_type": "markdown",
			"metadata": {},
			"source": [
				"### Ćwiczenie 1\n",
				"\n",
				"Zapisz w nieskompresowanym formacie SEC klucz publiczny, jeśli parametrami tajnymi klucza prywatnego są:\n",
				"\n",
				"* 5000\n",
				"* \\\\(2018^{5}\\\\)\n",
				"* 0xdeadbeef12345"
			]
		},
		{
			"cell_type": "code",
			"execution_count": null,
			"metadata": {},
			"outputs": [],
			"source": [
				"# Ćwiczenie 1\n",
				"\n",
				"from ecc import PrivateKey\n",
				"\n",
				"# 5000\n",
				"# 2018**5\n",
				"# 0xdeadbeef12345\n",
				"# privatekey.point, to klucz publiczny dla klucza prywatnego"
			]
		},
		{
			"cell_type": "markdown",
			"metadata": {},
			"source": [
				"### Ćwiczenie 2\n",
				"\n",
				"Znajdź reprezentację klucza publicznego w skompresowanym formacie SEC dla klucza prywatnego o następujących parametrach tajnych:\n",
				"\n",
				"* 5001\n",
				"* \\\\(2019^{5}\\\\)\n",
				"* 0xdeadbeef54321"
			]
		},
		{
			"cell_type": "code",
			"execution_count": null,
			"metadata": {},
			"outputs": [],
			"source": [
				"# Ćwiczenie 2\n",
				"\n",
				"from ecc import PrivateKey\n",
				"\n",
				"# 5001\n",
				"# 2019**5\n",
				"# 0xdeadbeef54321"
			]
		},
		{
			"cell_type": "markdown",
			"metadata": {},
			"source": [
				"### Ćwiczenie 3\n",
				"\n",
				"Wygeneruj w formacie DER podpis, którego wartości `r` i `s` wynoszą::\n",
				"\n",
				"* r =\n",
				"\n",
				"`0x37206a0610995c58074999cb9767b87af4c4978db68c06e8e6e81d282047a7c6`\n",
				"\n",
				"* s =\n",
				"\n",
				"`0x8ca63759c1157ebeaec0d03cecca119fc9a75bf8e6d0fa65c841c8e2738cdaec`"
			]
		},
		{
			"cell_type": "code",
			"execution_count": null,
			"metadata": {},
			"outputs": [],
			"source": [
				"# Ćwiczenie 3\n",
				"\n",
				"from ecc import Signature\n",
				"\n",
				"r = 0x37206a0610995c58074999cb9767b87af4c4978db68c06e8e6e81d282047a7c6\n",
				"s = 0x8ca63759c1157ebeaec0d03cecca119fc9a75bf8e6d0fa65c841c8e2738cdaec"
			]
		},
		{
			"cell_type": "markdown",
			"metadata": {},
			"source": [
				"### Ćwiczenie 4\n",
				"\n",
				"Przekonwertuj następujące wartości szesnastkowe na format binarny, a następnie zakoduj w Base58:\n",
				"\n",
				"* `7c076ff316692a3d7eb3c3bb0f8b1488cf72e1afcd929e29307032997a838a3d`\n",
				"* `eff69ef2b1bd93a66ed5219add4fb51e11a840f404876325a1e8ffe0529a2c`\n",
				"* `c7207fee197d27c618aea621406f6bf5ef6fca38681d82b2f06fddbdce6feab6`"
			]
		},
		{
			"cell_type": "code",
			"execution_count": null,
			"metadata": {},
			"outputs": [],
			"source": [
				"# Ćwiczenie 4\n",
				"\n",
				"from helper import encode_base58\n",
				"\n",
				"# 7c076ff316692a3d7eb3c3bb0f8b1488cf72e1afcd929e29307032997a838a3d\n",
				"# eff69ef2b1bd93a66ed5219add4fb51e11a840f404876325a1e8ffe0529a2c\n",
				"# c7207fee197d27c618aea621406f6bf5ef6fca38681d82b2f06fddbdce6feab6"
			]
		},
		{
			"cell_type": "markdown",
			"metadata": {},
			"source": [
				"### Ćwiczenie 5\n",
				"\n",
				"Znajdź adresy odpowiadające kluczom publicznym, których tajnymi parametrami są:\n",
				"\n",
				"* 5002 (użyj nieskompresowanego formatu SEC w sieci testowej)\n",
				"* \\\\(2020^{5}\\\\) (użyj skompresowanego formatu SEC w sieci testowej)\n",
				"* 0x12345deadbeef (użyj skompresowanego formatu SEC w sieci głównej)"
			]
		},
		{
			"cell_type": "code",
			"execution_count": null,
			"metadata": {},
			"outputs": [],
			"source": [
				"# Ćwiczenie 5\n",
				"\n",
				"from ecc import PrivateKey\n",
				"\n",
				"# 5002 (użyj nieskompresowanego formatu SEC w sieci testowej)\n",
				"# 2020**5 (użyj skompresowanego formatu SEC w sieci testowej)\n",
				"# 0x12345deadbeef (użyj skompresowanego formatu SEC w sieci głównej)"
			]
		},
		{
			"cell_type": "markdown",
			"metadata": {},
			"source": [
				"### Ćwiczenie 6\n",
				"\n",
				"Wygeneruj w formacie WIF klucz prywatny, którego parametrami są:\n",
				"\n",
				"* 5003 (format skompresowany, testnet)\n",
				"* \\\\(2021^{5}\\\\) (format nieskompresowany, testnet)\n",
				"* 0x54321deadbeef (format skompresowany, mainnet)"
			]
		},
		{
			"cell_type": "code",
			"execution_count": null,
			"metadata": {},
			"outputs": [],
			"source": [
				"# Ćwiczenie 6\n",
				"\n",
				"from ecc import PrivateKey\n",
				"\n",
				"# 5003\n",
				"# 2021**5\n",
				"# 0x54321deadbeef"
			]
		},
		{
			"cell_type": "markdown",
			"metadata": {},
			"source": [
				"### Ćwiczenie 7\n",
				"\n",
				"Napisz funkcję `little_endian_to_int`, która pobiera ciąg bajtów, interpretuje je jako bajty w porządku little-endian i zwraca liczbę całkowitą.\n",
				"\n",
				"#### Wykonaj [ten test](/edit/r04/helper.py): `helper.py:HelperTest:test_little_endian_to_int`"
			]
		},
		{
			"cell_type": "code",
			"execution_count": null,
			"metadata": {},
			"outputs": [],
			"source": [
				"# Ćwiczenie 7\n",
				"\n",
				"reload(helper)\n",
				"run(helper.HelperTest(\"test_little_endian_to_int\"))"
			]
		},
		{
			"cell_type": "markdown",
			"metadata": {},
			"source": [
				"### Ćwiczenie 8\n",
				"\n",
				"Napisz funkcję `int_to_little_endian`, która wykonuje transformację odwrotną do tej z poprzedniego ćwiczenia.\n",
				"\n",
				"#### Wykonaj [ten test](/edit/r04/helper.py): `helper.py:HelperTest:test_int_to_little_endian`"
			]
		},
		{
			"cell_type": "code",
			"execution_count": null,
			"metadata": {},
			"outputs": [],
			"source": [
				"# Ćwiczenie 8\n",
				"\n",
				"reload(helper)\n",
				"run(helper.HelperTest(\"test_int_to_little_endian\"))"
			]
		},
		{
			"cell_type": "markdown",
			"metadata": {},
			"source": [
				"### Ćwiczenie 9\n",
				"\n",
				"Utwórz dla siebie adres testnetowy, używając długiego klucza tajnego, który będzie znany tylko Tobie. Jest to ważne, ponieważ w testnecie krążą boty wykradające monety testnetowe. Pamiętaj, aby zapisać gdzieś swój tajny klucz! Będziesz używać go później do podpisywania transakcji."
			]
		},
		{
			"cell_type": "code",
			"execution_count": null,
			"metadata": {},
			"outputs": [],
			"source": [
				"# Ćwiczenie 9\n",
				"\n",
				"from ecc import PrivateKey\n",
				"from helper import hash256, little_endian_to_int\n",
				"\n",
				"# tu wybierz hasło, do hasła dla bezpieczeństwa dodaj swój adres e-mail\n",
				"# hasło = b'twój@adres.email jakaś tajna_liczba, którą znasz tylko ty'\n",
				"# tajna_liczba = little_endian_to_int(hash256(passphrase))\n",
				"# utwórz klucz prywatny za pomocą swojej tajnej_liczby\n",
				"# wydrukuj adres z publicznego punktu klucza prywatnego z testnet = True"
			]
		}
	],
	"metadata": {},
	"nbformat": 4,
	"nbformat_minor": 2
}