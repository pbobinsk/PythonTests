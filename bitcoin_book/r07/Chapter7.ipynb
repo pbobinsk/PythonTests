{
 "cells": [
  {
   "cell_type": "code",
   "execution_count": null,
   "metadata": {},
   "outputs": [],
   "source": [
    "############## URUCHOM TO NAJPIERW! ###################\n",
    "\n",
    "# zaimportuj wszystko i zdefiniuj funkcję wykonującą testy\n",
    "from importlib import reload\n",
    "from helper import run\n",
    "import ecc\n",
    "import helper\n",
    "import tx\n",
    "import script"
   ]
  },
  {
   "cell_type": "code",
   "execution_count": null,
   "metadata": {},
   "outputs": [],
   "source": [
    "from tx import Tx\n",
    "from io import BytesIO\n",
    "raw_tx = ('0100000001813f79011acb80925dfe69b3def355fe914bd1d96a3f5f71bf8303c6a989c7d1000000006b483045022100ed81ff192e75a3fd2304004dcadb746fa5e24c5031ccfcf21320b0277457c98f02207a986d955c6e0cb35d446a89d3f56100f4d7f67801c31967743a9c8e10615bed01210349fc4e631e3624a545de3f89f5d8684c7b8138bd94bdd531d2e213bf016b278afeffffff02a135ef01000000001976a914bc3b654dca7e56b04dca18f2566cdaf02e8d9ada88ac99c39800000000001976a9141c4bc762dd5423e332166702cb75f40df79fea1288ac19430600')\n",
    "stream = BytesIO(bytes.fromhex(raw_tx))\n",
    "transaction = Tx.parse(stream)\n",
    "print(transaction.fee() >= 0)"
   ]
  },
  {
   "cell_type": "code",
   "execution_count": null,
   "metadata": {},
   "outputs": [],
   "source": [
    "from ecc import S256Point, Signature\n",
    "sec = bytes.fromhex('0349fc4e631e3624a545de3f89f5d8684c7b8138bd94bdd531d2e213bf016b278a')\n",
    "der = bytes.fromhex('3045022100ed81ff192e75a3fd2304004dcadb746fa5e24c5031ccfcf21320b0277457c98f02207a986d955c6e0cb35d446a89d3f56100f4d7f67801c31967743a9c8e10615bed')\n",
    "z = 0x27e0c5994dec7824e56dec6b2fcb342eb7cdb0d0957c2fce9882f715e85d81a6\n",
    "point = S256Point.parse(sec)\n",
    "signature = Signature.parse(der)\n",
    "print(point.verify(z, signature))"
   ]
  },
  {
   "cell_type": "code",
   "execution_count": null,
   "metadata": {},
   "outputs": [],
   "source": [
    "from helper import hash256\n",
    "modified_tx = bytes.fromhex('0100000001813f79011acb80925dfe69b3def355fe914bd1d96a3f5f71bf8303c6a989c7d1000000001976a914a802fc56c704ce87c42d7c92eb75e7896bdc41ae88acfeffffff02a135ef01000000001976a914bc3b654dca7e56b04dca18f2566cdaf02e8d9ada88ac99c39800000000001976a9141c4bc762dd5423e332166702cb75f40df79fea1288ac1943060001000000')\n",
    "h256 = hash256(modified_tx)\n",
    "z = int.from_bytes(h256, 'big')\n",
    "print(hex(z))"
   ]
  },
  {
   "cell_type": "code",
   "execution_count": null,
   "metadata": {},
   "outputs": [],
   "source": [
    "from ecc import S256Point, Signature\n",
    "sec = bytes.fromhex('0349fc4e631e3624a545de3f89f5d8684c7b8138bd94bdd531d2e213bf016b278a')\n",
    "der = bytes.fromhex('3045022100ed81ff192e75a3fd2304004dcadb746fa5e24c5031ccfcf21320b0277457c98f02207a986d955c6e0cb35d446a89d3f56100f4d7f67801c31967743a9c8e10615bed')\n",
    "z = 0x27e0c5994dec7824e56dec6b2fcb342eb7cdb0d0957c2fce9882f715e85d81a6\n",
    "point = S256Point.parse(sec)\n",
    "signature = Signature.parse(der)\n",
    "point.verify(z, signature)"
   ]
  },
  {
   "cell_type": "markdown",
   "metadata": {},
   "source": [
    "### Ćwiczenie 1\n",
    "\n",
    "Napisz metodę `sig_hash` dla klasy `Tx`.\n",
    "\n",
    "#### Wykonaj [ten test](/edit/r07/tx.py): `tx.py:TxTest:test_sig_hash`"
   ]
  },
  {
   "cell_type": "code",
   "execution_count": null,
   "metadata": {},
   "outputs": [],
   "source": [
    "# Ćwiczenie 1\n",
    "\n",
    "reload(tx)\n",
    "run(tx.TxTest(\"test_sig_hash\"))"
   ]
  },
  {
   "cell_type": "markdown",
   "metadata": {},
   "source": [
    "### Ćwiczenie 2\n",
    "\n",
    "Napisz metodę `verify_input` dla klasy `Tx`. Użyj w tym celu metod `TxIn.script_pubkey`, `Tx.sig_hash` oraz `Script.evaluate`.\n",
    "\n",
    "#### Wykonaj [ten test](/edit/r07/tx.py): `tx.py:TxTest:test_verify_p2pkh`"
   ]
  },
  {
   "cell_type": "code",
   "execution_count": null,
   "metadata": {},
   "outputs": [],
   "source": [
    "# Ćwiczenie 2\n",
    "\n",
    "reload(tx)\n",
    "run(tx.TxTest(\"test_verify_p2pkh\"))"
   ]
  },
  {
   "cell_type": "code",
   "execution_count": null,
   "metadata": {},
   "outputs": [],
   "source": [
    "from helper import decode_base58, SIGHASH_ALL\n",
    "from script import p2pkh_script, Script\n",
    "from tx import TxIn, TxOut, Tx\n",
    "prev_tx = bytes.fromhex('0d6fe5213c0b3291f208cba8bfb59b7476dffacc4e5cb66f6eb20a080843a299')\n",
    "prev_index = 13\n",
    "tx_in = TxIn(prev_tx, prev_index)\n",
    "tx_outs = []\n",
    "change_amount = int(0.33*100000000)\n",
    "change_h160 = decode_base58('mzx5YhAH9kNHtcN481u6WkjeHjYtVeKVh2')\n",
    "change_script = p2pkh_script(change_h160)\n",
    "change_output = TxOut(amount=change_amount, script_pubkey=change_script)\n",
    "target_amount = int(0.1*100000000)\n",
    "target_h160 = decode_base58('mnrVtF8DWjMu839VW3rBfgYaAfKk8983Xf')\n",
    "target_script = p2pkh_script(target_h160)\n",
    "target_output = TxOut(amount=target_amount, script_pubkey=target_script)\n",
    "tx_obj = Tx(1, [tx_in], [change_output, target_output], 0, True)\n",
    "print(tx_obj)"
   ]
  },
  {
   "cell_type": "code",
   "execution_count": null,
   "metadata": {},
   "outputs": [],
   "source": [
    "from ecc import PrivateKey\n",
    "from helper import SIGHASH_ALL\n",
    "z = transaction.sig_hash(0)\n",
    "private_key = PrivateKey(secret=8675309)\n",
    "der = private_key.sign(z).der()\n",
    "sig = der + SIGHASH_ALL.to_bytes(1, 'big')\n",
    "sec = private_key.point.sec()\n",
    "script_sig = Script([sig, sec])\n",
    "transaction.tx_ins[0].script_sig = script_sig \n",
    "print(transaction.serialize().hex())"
   ]
  },
  {
   "cell_type": "code",
   "execution_count": null,
   "metadata": {},
   "outputs": [],
   "source": [
    "from ecc import PrivateKey\n",
    "from helper import hash256, little_endian_to_int\n",
    "secret = little_endian_to_int(hash256(b'Jimmy Song secret'))\n",
    "private_key = PrivateKey(secret)\n",
    "print(private_key.point.address(testnet=True))"
   ]
  },
  {
   "cell_type": "markdown",
   "metadata": {},
   "source": [
    "### Ćwiczenie 3\n",
    "\n",
    "Napisz metodę `sign_input` dla klasy `Tx`.\n",
    "\n",
    "#### Wykonaj [ten test](/edit/r07/tx.py): `tx.py:TxTest:test_sign_input`"
   ]
  },
  {
   "cell_type": "code",
   "execution_count": null,
   "metadata": {},
   "outputs": [],
   "source": [
    "# Ćwiczenie 3\n",
    "\n",
    "reload(tx)\n",
    "run(tx.TxTest(\"test_sign_input\"))"
   ]
  },
  {
   "cell_type": "markdown",
   "metadata": {},
   "source": [
    "### Ćwiczenie 4\n",
    "\n",
    "Utwórz transakcję testnetową wysyłającą 60% z jednego UTXO na adres `mwJn1YPMq7y5F8J3LkC5Hxg9PHyZ5K4cFv`. Pozostała kwota, pomniejszona o opłaty, powinna trafić na Twój adres przeznaczony na resztę. Powinna być to transakcja z jednym wejściem i z dwoma wyjściami.\n",
    "\n",
    "Możesz rozesłać tę transakcję na https://live.blockcypher.com/btc/pushtx."
   ]
  },
  {
   "cell_type": "code",
   "execution_count": null,
   "metadata": {},
   "outputs": [],
   "source": [
    "# Ćwiczenie 4\n",
    "\n",
    "from ecc import PrivateKey\n",
    "from helper import decode_base58, SIGHASH_ALL\n",
    "from script import p2pkh_script, Script\n",
    "from tx import TxIn, TxOut, Tx\n",
    "\n",
    "# utwórz 1 TxIn i 2 TxOut\n",
    "# 1 z tych dwóch TxOut powinno trafić na Twój adres\n",
    "# Drugie TxOut powinno trafić na ten adres:\n",
    "target_address = 'mwJn1YPMq7y5F8J3LkC5Hxg9PHyZ5K4cFv'\n",
    "\n",
    "# Klucz prywatny weź z ćwiczenia w rozdziale 4.\n",
    "# Adres dla reszty powinien być adresem wygenerowanym w rozdziale 4.\n",
    "\n",
    "# prev_tx i prev_index weź z transakcji, w której dostałeś trochę monet testnetowych\n",
    "# Utwórz wejście transakcyjne dla poprzedniej transakcji,\n",
    "# używając domyślnego ScriptSig i nr porządkowego\n",
    "\n",
    "# Kwota docelowa powinna być równa 60% kwoty wyjścia\n",
    "# Wyznacz opłatę w rozsądnej kwocie\n",
    "# Kwota reszty = kwota z poprzedniej tx - kwota docelowa - opłata\n",
    "\n",
    "# Utwórz wyjście transakcyjne dla kwoty docelowej i adresu\n",
    "# Utwórz wyjście transakcyjne dla kwoty reszty i adresu\n",
    "# Utwórz obiekt transakcji\n",
    "\n",
    "# Podpisz jedno wejście w obiekcie transakcji za pomocą klucza prywatnego\n",
    "# Wydrukuj serializację transakcji szesnastkowo\n",
    "# Roześlij, wysyłając do http://testnet.blockchain.info/pushtx"
   ]
  },
  {
   "cell_type": "markdown",
   "metadata": {},
   "source": [
    "### Ćwiczenie 5\n",
    "\n",
    "Dla ambitnych: zdobądź więcej monet testnetowych ze źródła testnetowego i utwórz transakcję z dwoma wejściami i z jednym wyjściem. Jedno wejście powinno pochodzić z takiego źródła, a drugie z poprzedniego ćwiczenia. Wyjście może być Twoim własnym adresem.\n",
    "\n",
    "Możesz rozesłać tę transakcję na https://live.blockcypher.com/btc/pushtx."
   ]
  },
  {
   "cell_type": "code",
   "execution_count": null,
   "metadata": {},
   "outputs": [],
   "source": [
    "# Ćwiczenie 5\n",
    "\n",
    "from ecc import PrivateKey\n",
    "from helper import decode_base58, SIGHASH_ALL\n",
    "from script import p2pkh_script, Script\n",
    "from tx import TxIn, TxOut, Tx\n",
    "\n",
    "# Utwórz 2 TxIn, jedno z ćwiczenia nr 4 i jedno ze źródła testnetowego\n",
    "# Utwórz 1 TxOut na powyższy adres\n",
    "target_address = 'mwJn1YPMq7y5F8J3LkC5Hxg9PHyZ5K4cFv'\n",
    "\n",
    "# Klucz prywatny weź z ćwiczenia w rozdziale 4.\n",
    "\n",
    "# prev_tx i prev_index weź z transakcji, w której dostałeś trochę monet testnetowych\n",
    "# Utwórz pierwsze wejście transakcyjne, używając domyślnego ScriptSig i nr porządkowego\n",
    "# prev_tx i prev_index weź z transakcji z ćwiczenia 4.\n",
    "# Utwórz drugie wejście transakcyjne, używając domyślnego ScriptSig i nr porządkowego\n",
    "\n",
    "# Wyznacz opłatę w rozsądnej kwocie\n",
    "# Kwota docelowa powinna być sumą wejść - opłata\n",
    "\n",
    "# Utwórz wyjście transakcyjne dla tej kwoty i dla adresu\n",
    "\n",
    "# Podpisz pierwsze wejście za pomocą klucza prywatnego\n",
    "# Podpisz drugie wejście za pomocą klucza prywatnego\n",
    "# Wydrukuj serializację transakcji szesnastkowo\n",
    "# Roześlij, wysyłając do http://testnet.blockchain.info/pushtx"
   ]
  }
 ],
 "metadata": {},
 "nbformat": 4,
 "nbformat_minor": 2
}
